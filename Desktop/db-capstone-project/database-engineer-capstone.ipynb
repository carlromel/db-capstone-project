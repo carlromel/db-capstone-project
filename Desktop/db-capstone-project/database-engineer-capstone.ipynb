{
 "cells": [
  {
   "cell_type": "code",
   "execution_count": 7,
   "id": "0bca7b78-5c8d-4535-8eb9-4ba0da1e4391",
   "metadata": {},
   "outputs": [
    {
     "name": "stdout",
     "output_type": "stream",
     "text": [
      "Importing MySQL Connector/Python API\n",
      "MySQL Connector/Python API is imported successfully\n",
      "\n"
     ]
    }
   ],
   "source": [
    "print(\"Importing MySQL Connector/Python API\")\n",
    "import mysql.connector as connector\n",
    "print(\"MySQL Connector/Python API is imported successfully\\n\")"
   ]
  },
  {
   "cell_type": "code",
   "execution_count": 8,
   "id": "dbb0534e-e09d-4f2d-8da9-4a583d56d181",
   "metadata": {},
   "outputs": [
    {
     "name": "stdout",
     "output_type": "stream",
     "text": [
      "Establishing a new connection between MySQL and Python\n",
      "A connection between MySQL and Python is successfully established\n"
     ]
    }
   ],
   "source": [
    "print(\"Establishing a new connection between MySQL and Python\")\n",
    "connection=connector.connect(user=\"admin\",password=\"admin\", db=\"littlelemon\")\n",
    "print(\"A connection between MySQL and Python is successfully established\")"
   ]
  },
  {
   "cell_type": "code",
   "execution_count": 9,
   "id": "17a920d2-3cc4-4042-aab3-8dd44153ad61",
   "metadata": {},
   "outputs": [],
   "source": [
    "cursor = connection.cursor()"
   ]
  },
  {
   "cell_type": "code",
   "execution_count": 10,
   "id": "3dd58a27-6bb2-4134-89b7-becea7183ec1",
   "metadata": {},
   "outputs": [
    {
     "name": "stdout",
     "output_type": "stream",
     "text": [
      "Executing the SQL query\n"
     ]
    }
   ],
   "source": [
    "show_tables_query = \"SHOW tables\"\n",
    "\n",
    "print(\"Executing the SQL query\")\n",
    "cursor.execute(show_tables_query)"
   ]
  },
  {
   "cell_type": "code",
   "execution_count": 11,
   "id": "0cb375a5-38ff-47e6-919a-d97cd70a6931",
   "metadata": {},
   "outputs": [
    {
     "name": "stdout",
     "output_type": "stream",
     "text": [
      "Fetching the query results\n"
     ]
    }
   ],
   "source": [
    "print(\"Fetching the query results\")\n",
    "results = cursor.fetchall()"
   ]
  },
  {
   "cell_type": "code",
   "execution_count": 18,
   "id": "387c23c5-1c34-45f4-8d47-e5a42bb66fde",
   "metadata": {},
   "outputs": [
    {
     "name": "stdout",
     "output_type": "stream",
     "text": [
      "Printing the results\n",
      "\n",
      "[('bookings',), ('customers',), ('menuitems',), ('menutables',), ('orders',), ('ordersview',)]\n"
     ]
    }
   ],
   "source": [
    "print(\"Printing the results\\n\")\n",
    "print(results)"
   ]
  },
  {
   "cell_type": "code",
   "execution_count": 24,
   "id": "b34dd1b9-43b7-4276-8cd7-13ea7468fd87",
   "metadata": {},
   "outputs": [],
   "source": [
    "query_1 = \"\"\"\n",
    "SELECT\n",
    "a.FullName, a.ContactNumber, a.Email, SUM(b.TotalCost) AS BillAmount\n",
    "FROM\n",
    "customers a\n",
    "LEFT JOIN\n",
    "orders b ON a.CustomerID = b.CustomerID\n",
    "GROUP BY\n",
    "a.FullName, a.ContactNumber, a.Email\n",
    "HAVING\n",
    "SUM(b.TotalCost) > 60;\n",
    "\"\"\""
   ]
  },
  {
   "cell_type": "code",
   "execution_count": 25,
   "id": "733ced3e-8e72-4be9-a961-a5622758521e",
   "metadata": {},
   "outputs": [
    {
     "name": "stdout",
     "output_type": "stream",
     "text": [
      "Executing the SQL query\n"
     ]
    }
   ],
   "source": [
    "print(\"Executing the SQL query\")\n",
    "cursor.execute(query_1)"
   ]
  },
  {
   "cell_type": "code",
   "execution_count": 26,
   "id": "75b908ea-c93e-4e94-a589-95b0c7ec30ac",
   "metadata": {},
   "outputs": [
    {
     "name": "stdout",
     "output_type": "stream",
     "text": [
      "Fetching the query results\n"
     ]
    }
   ],
   "source": [
    "print(\"Fetching the query results\")\n",
    "results = cursor.fetchall()"
   ]
  },
  {
   "cell_type": "code",
   "execution_count": 27,
   "id": "1590d2e8-ecfd-4d43-81a4-cc05fd7b565a",
   "metadata": {},
   "outputs": [
    {
     "name": "stdout",
     "output_type": "stream",
     "text": [
      "Retrieving the column names\n"
     ]
    }
   ],
   "source": [
    "print(\"Retrieving the column names\")\n",
    "cols = cursor.column_names"
   ]
  },
  {
   "cell_type": "code",
   "execution_count": 28,
   "id": "884dd1e4-7bfb-470a-aa37-da45962f06fe",
   "metadata": {},
   "outputs": [
    {
     "name": "stdout",
     "output_type": "stream",
     "text": [
      "Printing the results\n",
      "\n",
      "('FullName', 'ContactNumber', 'Email', 'BillAmount')\n"
     ]
    }
   ],
   "source": [
    "print(\"Printing the results\\n\")\n",
    "print(cols)\n",
    "for result in results:\n",
    "    print(result)"
   ]
  },
  {
   "cell_type": "code",
   "execution_count": 29,
   "id": "e2cc3cb1-69b0-4c33-8b42-7045392e6626",
   "metadata": {},
   "outputs": [
    {
     "name": "stdout",
     "output_type": "stream",
     "text": [
      "Closing the connection.\n",
      "The connection is now closed.\n"
     ]
    }
   ],
   "source": [
    "print(\"Closing the connection.\")\n",
    "connection.close()\n",
    "print(\"The connection is now closed.\")"
   ]
  },
  {
   "cell_type": "code",
   "execution_count": null,
   "id": "d4409dfa-4486-42d7-8366-8c6ebbfbaa55",
   "metadata": {},
   "outputs": [],
   "source": []
  }
 ],
 "metadata": {
  "kernelspec": {
   "display_name": "Python 3 (ipykernel)",
   "language": "python",
   "name": "python3"
  },
  "language_info": {
   "codemirror_mode": {
    "name": "ipython",
    "version": 3
   },
   "file_extension": ".py",
   "mimetype": "text/x-python",
   "name": "python",
   "nbconvert_exporter": "python",
   "pygments_lexer": "ipython3",
   "version": "3.12.4"
  }
 },
 "nbformat": 4,
 "nbformat_minor": 5
}
